{
  "cells": [
    {
      "cell_type": "markdown",
      "metadata": {
        "id": "view-in-github",
        "colab_type": "text"
      },
      "source": [
        "<a href=\"https://colab.research.google.com/github/benmsanderson/SRMfair/blob/main/FAIR_timeshift.ipynb\" target=\"_parent\"><img src=\"https://colab.research.google.com/assets/colab-badge.svg\" alt=\"Open In Colab\"/></a>"
      ]
    },
    {
      "cell_type": "markdown",
      "source": [
        "# Normal setup"
      ],
      "metadata": {
        "id": "hcMNBAs8KM1L"
      },
      "id": "hcMNBAs8KM1L"
    },
    {
      "cell_type": "code",
      "execution_count": null,
      "metadata": {
        "id": "xDS0fvTURJx_"
      },
      "outputs": [],
      "source": [
        "import xarray as xr\n",
        "import matplotlib.pyplot as plt"
      ],
      "id": "xDS0fvTURJx_"
    },
    {
      "cell_type": "code",
      "source": [],
      "metadata": {
        "id": "AZ7ZcP3KIVra"
      },
      "id": "AZ7ZcP3KIVra",
      "execution_count": null,
      "outputs": []
    },
    {
      "cell_type": "code",
      "execution_count": null,
      "metadata": {
        "id": "ANVDZL_SIFUM"
      },
      "outputs": [],
      "source": [
        "def plot_shaded(tim,dist,col,ax,label=None):\n",
        "      #for pp in ((1, 99), (5, 95), (16, 84)):\n",
        "      for pp in [(5, 95)]:\n",
        "\n",
        "        ax.fill_between(\n",
        "            tim,\n",
        "            np.percentile(\n",
        "                dist,\n",
        "                pp[0],\n",
        "                axis=1,\n",
        "            ),\n",
        "            np.percentile(\n",
        "                dist,\n",
        "                pp[1],\n",
        "                axis=1,\n",
        "            ),\n",
        "            color=col,\n",
        "            alpha=0.1,\n",
        "            lw=0\n",
        "        )\n",
        "\n",
        "      ax.plot(\n",
        "          tim,\n",
        "          np.median(\n",
        "              dist,\n",
        "              axis=1,\n",
        "          ),\n",
        "          color=col,\n",
        "          label=label\n",
        "        )"
      ],
      "id": "ANVDZL_SIFUM"
    },
    {
      "cell_type": "code",
      "execution_count": null,
      "metadata": {
        "id": "hXgLFS639pr8"
      },
      "outputs": [],
      "source": [],
      "id": "hXgLFS639pr8"
    },
    {
      "cell_type": "code",
      "execution_count": null,
      "metadata": {
        "id": "84C-N_SQLa4L"
      },
      "outputs": [],
      "source": [
        "def range_plot(ax,fld,scenario,col,label=None):\n",
        "    dist=fld.loc[dict(scenario=scenario)]\n",
        "    tim=f.timebounds\n",
        "    plot_shaded(tim[:dist.shape[0]],dist,col,ax,label)"
      ],
      "id": "84C-N_SQLa4L"
    },
    {
      "cell_type": "code",
      "execution_count": null,
      "metadata": {
        "colab": {
          "base_uri": "https://localhost:8080/"
        },
        "id": "VEn0fFLZM7p9",
        "outputId": "923e3510-fc7d-4dac-e49f-d4dfc4f22339"
      },
      "outputs": [
        {
          "output_type": "stream",
          "name": "stdout",
          "text": [
            "Requirement already satisfied: fair in /usr/local/lib/python3.10/dist-packages (2.1.4)\n",
            "Requirement already satisfied: matplotlib in /usr/local/lib/python3.10/dist-packages (from fair) (3.7.1)\n",
            "Requirement already satisfied: numpy in /usr/local/lib/python3.10/dist-packages (from fair) (1.25.2)\n",
            "Requirement already satisfied: pandas in /usr/local/lib/python3.10/dist-packages (from fair) (2.0.3)\n",
            "Requirement already satisfied: pooch in /usr/local/lib/python3.10/dist-packages (from fair) (1.8.2)\n",
            "Requirement already satisfied: scipy in /usr/local/lib/python3.10/dist-packages (from fair) (1.11.4)\n",
            "Requirement already satisfied: tqdm in /usr/local/lib/python3.10/dist-packages (from fair) (4.66.4)\n",
            "Requirement already satisfied: xarray in /usr/local/lib/python3.10/dist-packages (from fair) (2023.7.0)\n",
            "Requirement already satisfied: contourpy>=1.0.1 in /usr/local/lib/python3.10/dist-packages (from matplotlib->fair) (1.2.1)\n",
            "Requirement already satisfied: cycler>=0.10 in /usr/local/lib/python3.10/dist-packages (from matplotlib->fair) (0.12.1)\n",
            "Requirement already satisfied: fonttools>=4.22.0 in /usr/local/lib/python3.10/dist-packages (from matplotlib->fair) (4.53.0)\n",
            "Requirement already satisfied: kiwisolver>=1.0.1 in /usr/local/lib/python3.10/dist-packages (from matplotlib->fair) (1.4.5)\n",
            "Requirement already satisfied: packaging>=20.0 in /usr/local/lib/python3.10/dist-packages (from matplotlib->fair) (24.1)\n",
            "Requirement already satisfied: pillow>=6.2.0 in /usr/local/lib/python3.10/dist-packages (from matplotlib->fair) (9.4.0)\n",
            "Requirement already satisfied: pyparsing>=2.3.1 in /usr/local/lib/python3.10/dist-packages (from matplotlib->fair) (3.1.2)\n",
            "Requirement already satisfied: python-dateutil>=2.7 in /usr/local/lib/python3.10/dist-packages (from matplotlib->fair) (2.8.2)\n",
            "Requirement already satisfied: pytz>=2020.1 in /usr/local/lib/python3.10/dist-packages (from pandas->fair) (2023.4)\n",
            "Requirement already satisfied: tzdata>=2022.1 in /usr/local/lib/python3.10/dist-packages (from pandas->fair) (2024.1)\n",
            "Requirement already satisfied: platformdirs>=2.5.0 in /usr/local/lib/python3.10/dist-packages (from pooch->fair) (4.2.2)\n",
            "Requirement already satisfied: requests>=2.19.0 in /usr/local/lib/python3.10/dist-packages (from pooch->fair) (2.31.0)\n",
            "Requirement already satisfied: six>=1.5 in /usr/local/lib/python3.10/dist-packages (from python-dateutil>=2.7->matplotlib->fair) (1.16.0)\n",
            "Requirement already satisfied: charset-normalizer<4,>=2 in /usr/local/lib/python3.10/dist-packages (from requests>=2.19.0->pooch->fair) (3.3.2)\n",
            "Requirement already satisfied: idna<4,>=2.5 in /usr/local/lib/python3.10/dist-packages (from requests>=2.19.0->pooch->fair) (3.7)\n",
            "Requirement already satisfied: urllib3<3,>=1.21.1 in /usr/local/lib/python3.10/dist-packages (from requests>=2.19.0->pooch->fair) (2.0.7)\n",
            "Requirement already satisfied: certifi>=2017.4.17 in /usr/local/lib/python3.10/dist-packages (from requests>=2.19.0->pooch->fair) (2024.6.2)\n"
          ]
        }
      ],
      "source": [
        "pip install fair"
      ],
      "id": "VEn0fFLZM7p9"
    },
    {
      "cell_type": "markdown",
      "metadata": {
        "id": "ad4bc63e"
      },
      "source": [
        "## 0. Get required imports\n",
        "\n",
        "[pooch](https://www.fatiando.org/pooch/latest/) is a useful package that allows downloads of external datasets to your cache, meaning that you don't have to include them in Git repositories (particularly troublesome for large files) or `.gitignore` them (difficult for exact reproduciblity, and easy to forget and accidently commit a large file)."
      ],
      "id": "ad4bc63e"
    },
    {
      "cell_type": "code",
      "execution_count": null,
      "metadata": {
        "id": "c3a38578-9f38-48f2-b961-7fb9c8f266b2"
      },
      "outputs": [],
      "source": [
        "import matplotlib.pyplot as pl\n",
        "import numpy as np\n",
        "import pandas as pd\n",
        "import pooch\n",
        "\n",
        "from fair import FAIR\n",
        "from fair.interface import fill, initialise\n",
        "from fair.io import read_properties"
      ],
      "id": "c3a38578-9f38-48f2-b961-7fb9c8f266b2"
    },
    {
      "cell_type": "markdown",
      "metadata": {
        "id": "61e41fa4"
      },
      "source": [
        "## 1. Create FaIR instance\n"
      ],
      "id": "61e41fa4"
    },
    {
      "cell_type": "code",
      "execution_count": null,
      "metadata": {
        "id": "d23f87f8"
      },
      "outputs": [],
      "source": [
        "f = FAIR(ch4_method=\"Thornhill2021\")\n",
        "## 2. Define time horizon\n",
        "\n",
        "f.define_time(1750, 2300, 1)  # start, end, step\n",
        "## 3. Define scenarios\n",
        "\n",
        "#scenarios = [\"ssp119\", \"ssp126\", \"ssp245\", \"ssp370\", \"ssp434\", \"ssp460\", \"ssp534-over\", \"ssp585\"]\n",
        "scenarios = [\"ssp119\",\"ssp126\"]\n",
        "f.define_scenarios(scenarios)"
      ],
      "id": "d23f87f8"
    },
    {
      "cell_type": "markdown",
      "metadata": {
        "id": "eefb4614"
      },
      "source": [
        "## 4. Define configs\n",
        "\n"
      ],
      "id": "eefb4614"
    },
    {
      "cell_type": "code",
      "execution_count": null,
      "metadata": {
        "id": "06cf8901"
      },
      "outputs": [],
      "source": [
        "fair_params_1_2_0_obj = pooch.retrieve(\n",
        "    url = 'https://zenodo.org/record/8399112/files/calibrated_constrained_parameters.csv',\n",
        "    known_hash = 'md5:de3b83432b9d071efdd1427ad31e9076',\n",
        ")"
      ],
      "id": "06cf8901"
    },
    {
      "cell_type": "code",
      "execution_count": null,
      "metadata": {
        "id": "AdWSkHoa7h14"
      },
      "outputs": [],
      "source": [
        "df_configs = pd.read_csv(fair_params_1_2_0_obj, index_col=0)\n",
        "\n"
      ],
      "id": "AdWSkHoa7h14"
    },
    {
      "cell_type": "code",
      "execution_count": null,
      "metadata": {
        "id": "M3yQ1neU-VZE"
      },
      "outputs": [],
      "source": [
        "configs = df_configs.index  # this is used as a label for the \"config\" axis\n"
      ],
      "id": "M3yQ1neU-VZE"
    },
    {
      "cell_type": "code",
      "execution_count": null,
      "metadata": {
        "id": "zE_5Vwao_ddV"
      },
      "outputs": [],
      "source": [
        "f.define_configs(configs)"
      ],
      "id": "zE_5Vwao_ddV"
    },
    {
      "cell_type": "markdown",
      "metadata": {
        "id": "AS5VoYPFNVaN"
      },
      "source": [
        "Make a config dataframe with half kappa2 values"
      ],
      "id": "AS5VoYPFNVaN"
    },
    {
      "cell_type": "code",
      "execution_count": null,
      "metadata": {
        "id": "69688229"
      },
      "outputs": [],
      "source": [
        "\n",
        "species, properties = read_properties(filename='https://raw.githubusercontent.com/OMS-NetZero/FAIR/master/examples/data/species_configs_properties_calibration1.2.0.csv')\n",
        "f.define_species(species, properties)\n",
        "\n",
        "f.allocate()"
      ],
      "id": "69688229"
    },
    {
      "cell_type": "markdown",
      "metadata": {
        "id": "603d7738"
      },
      "source": [
        "## 8. Fill in data\n",
        "\n",
        "### 8a. emissions, solar forcing, and volcanic forcing\n",
        "\n",
        "We can use the convenience function `fill_from_rcmip()` to fill in the emissions. Remember that not all `species` are things that take emissions, so if you see NaNs below, don't panic."
      ],
      "id": "603d7738"
    },
    {
      "cell_type": "code",
      "execution_count": null,
      "metadata": {
        "id": "bd434bc7"
      },
      "outputs": [],
      "source": [
        "f.fill_from_rcmip()"
      ],
      "id": "bd434bc7"
    },
    {
      "cell_type": "markdown",
      "metadata": {
        "id": "352537fd"
      },
      "source": [
        "Fix Nox"
      ],
      "id": "352537fd"
    },
    {
      "cell_type": "code",
      "execution_count": null,
      "metadata": {
        "id": "e38e05e8"
      },
      "outputs": [],
      "source": [
        "rcmip_emissions_file = pooch.retrieve(\n",
        "    url=\"doi:10.5281/zenodo.4589756/rcmip-emissions-annual-means-v5-1-0.csv\",\n",
        "    known_hash=\"md5:4044106f55ca65b094670e7577eaf9b3\",\n",
        ")\n",
        "df_emis = pd.read_csv(rcmip_emissions_file)\n",
        "gfed_sectors = [\n",
        "    \"Emissions|NOx|MAGICC AFOLU|Agricultural Waste Burning\",\n",
        "    \"Emissions|NOx|MAGICC AFOLU|Forest Burning\",\n",
        "    \"Emissions|NOx|MAGICC AFOLU|Grassland Burning\",\n",
        "    \"Emissions|NOx|MAGICC AFOLU|Peat Burning\",\n",
        "]\n",
        "for scenario in scenarios:\n",
        "    f.emissions.loc[dict(specie=\"NOx\", scenario=scenario)] = (\n",
        "        df_emis.loc[\n",
        "            (df_emis[\"Scenario\"] == scenario)\n",
        "            & (df_emis[\"Region\"] == \"World\")\n",
        "            & (df_emis[\"Variable\"].isin(gfed_sectors)),\n",
        "            \"1750\":\"2300\",\n",
        "        ]\n",
        "        .interpolate(axis=1)\n",
        "        .values.squeeze()\n",
        "        .sum(axis=0)\n",
        "        * 46.006\n",
        "        / 30.006\n",
        "        + df_emis.loc[\n",
        "            (df_emis[\"Scenario\"] == scenario)\n",
        "            & (df_emis[\"Region\"] == \"World\")\n",
        "            & (df_emis[\"Variable\"] == \"Emissions|NOx|MAGICC AFOLU|Agriculture\"),\n",
        "            \"1750\":\"2300\",\n",
        "        ]\n",
        "        .interpolate(axis=1)\n",
        "        .values.squeeze()\n",
        "        + df_emis.loc[\n",
        "            (df_emis[\"Scenario\"] == scenario)\n",
        "            & (df_emis[\"Region\"] == \"World\")\n",
        "            & (df_emis[\"Variable\"] == \"Emissions|NOx|MAGICC Fossil and Industrial\"),\n",
        "            \"1750\":\"2300\",\n",
        "        ]\n",
        "        .interpolate(axis=1)\n",
        "        .values.squeeze()\n",
        "    )[:550, None]"
      ],
      "id": "e38e05e8"
    },
    {
      "cell_type": "markdown",
      "metadata": {
        "id": "6cdb7c3c"
      },
      "source": [
        "Now we fetch and fill in the solar and volcanic forcing. As these are forcing-driven time series, if we want to vary the uncertainties in the forcing, this has to happen before FaIR is run (see https://github.com/OMS-NetZero/FAIR/issues/126)."
      ],
      "id": "6cdb7c3c"
    },
    {
      "cell_type": "code",
      "execution_count": null,
      "metadata": {
        "id": "a5b03843"
      },
      "outputs": [],
      "source": [
        "solar_obj = pooch.retrieve(\n",
        "    url = 'https://raw.githubusercontent.com/chrisroadmap/fair-add-hfc/main/data/solar_erf_timebounds.csv',\n",
        "    known_hash = 'md5:98f6f4c5309d848fea89803683441acf',\n",
        ")"
      ],
      "id": "a5b03843"
    },
    {
      "cell_type": "code",
      "execution_count": null,
      "metadata": {
        "id": "8d3390e5"
      },
      "outputs": [],
      "source": [
        "volcanic_obj = pooch.retrieve(\n",
        "    url = 'https://raw.githubusercontent.com/chrisroadmap/fair-calibrate/main/data/forcing/volcanic_ERF_1750-2101_timebounds.csv',\n",
        "    known_hash = 'md5:c0801f80f70195eb9567dbd70359219d',\n",
        ")"
      ],
      "id": "8d3390e5"
    },
    {
      "cell_type": "code",
      "execution_count": null,
      "metadata": {
        "id": "31e3f735"
      },
      "outputs": [],
      "source": [
        "df_solar = pd.read_csv(solar_obj, index_col=\"year\")\n",
        "df_volcanic = pd.read_csv(volcanic_obj)"
      ],
      "id": "31e3f735"
    },
    {
      "cell_type": "code",
      "execution_count": null,
      "metadata": {
        "id": "3886cb7d"
      },
      "outputs": [],
      "source": [
        "solar_forcing = np.zeros(551)\n",
        "volcanic_forcing = np.zeros(551)\n",
        "volcanic_forcing[:352] = df_volcanic.erf.values\n",
        "solar_forcing = df_solar[\"erf\"].loc[1750:2300].values\n",
        "\n",
        "trend_shape = np.ones(551)\n",
        "trend_shape[:271] = np.linspace(0, 1, 271)"
      ],
      "id": "3886cb7d"
    },
    {
      "cell_type": "markdown",
      "metadata": {
        "id": "e44ef345"
      },
      "source": [
        "We then use our calibrated, constrained ensemble to individually scale the volcanic forcing time series, and the solar amplitude and trend:"
      ],
      "id": "e44ef345"
    },
    {
      "cell_type": "code",
      "execution_count": null,
      "metadata": {
        "id": "ed2fc25c"
      },
      "outputs": [],
      "source": [
        "fill(\n",
        "    f.forcing,\n",
        "    volcanic_forcing[:, None, None] * df_configs[\"fscale_Volcanic\"].values.squeeze(),\n",
        "    specie=\"Volcanic\",\n",
        ")\n",
        "fill(\n",
        "    f.forcing,\n",
        "    solar_forcing[:, None, None] * df_configs[\"fscale_solar_amplitude\"].values.squeeze()\n",
        "    + trend_shape[:, None, None] * df_configs[\"fscale_solar_trend\"].values.squeeze(),\n",
        "    specie=\"Solar\",\n",
        ")"
      ],
      "id": "ed2fc25c"
    },
    {
      "cell_type": "markdown",
      "metadata": {
        "id": "6fc3fd73"
      },
      "source": [
        "### 8b. Fill in climate_configs\n",
        "\n",
        "This is relatively straightforward from the calibrated, constrained dataset."
      ],
      "id": "6fc3fd73"
    },
    {
      "cell_type": "code",
      "execution_count": null,
      "metadata": {
        "id": "0c6cb77c"
      },
      "outputs": [],
      "source": [
        "fill(f.climate_configs[\"ocean_heat_capacity\"], df_configs.loc[:, \"clim_c1\":\"clim_c3\"].values)\n",
        "\n",
        "fill(f.climate_configs[\"deep_ocean_efficacy\"], df_configs[\"clim_epsilon\"].values.squeeze())\n",
        "fill(f.climate_configs[\"gamma_autocorrelation\"], df_configs[\"clim_gamma\"].values.squeeze())\n",
        "fill(f.climate_configs[\"sigma_eta\"], df_configs[\"clim_sigma_eta\"].values.squeeze())\n",
        "fill(f.climate_configs[\"sigma_xi\"], df_configs[\"clim_sigma_xi\"].values.squeeze())\n",
        "fill(f.climate_configs[\"seed\"], df_configs[\"seed\"])\n",
        "fill(f.climate_configs[\"stochastic_run\"], False)\n",
        "fill(f.climate_configs[\"use_seed\"], False)\n",
        "fill(f.climate_configs[\"forcing_4co2\"], df_configs[\"clim_F_4xCO2\"])"
      ],
      "id": "0c6cb77c"
    },
    {
      "cell_type": "markdown",
      "metadata": {
        "id": "tEtJvLZiN5DL"
      },
      "source": [],
      "id": "tEtJvLZiN5DL"
    },
    {
      "cell_type": "code",
      "execution_count": null,
      "metadata": {
        "id": "xjlPu2ZmN2Sr"
      },
      "outputs": [],
      "source": [
        "fill(\n",
        "    f.climate_configs[\"ocean_heat_transfer\"],\n",
        "    df_configs.loc[:, \"clim_kappa1\":\"clim_kappa3\"].values,\n",
        ")"
      ],
      "id": "xjlPu2ZmN2Sr"
    },
    {
      "cell_type": "markdown",
      "metadata": {
        "id": "a0c67b5e"
      },
      "source": [
        "### 8c. Fill in species_configs\n",
        "\n",
        "Firstly we want to get the defaults from our new species/properties/configs file"
      ],
      "id": "a0c67b5e"
    },
    {
      "cell_type": "code",
      "execution_count": null,
      "metadata": {
        "id": "798edffe"
      },
      "outputs": [],
      "source": [
        "f.fill_species_configs(filename='https://raw.githubusercontent.com/OMS-NetZero/FAIR/master/examples/data/species_configs_properties_calibration1.2.0.csv')"
      ],
      "id": "798edffe"
    },
    {
      "cell_type": "markdown",
      "metadata": {
        "id": "3792ce8b"
      },
      "source": [
        "Then, we overwrite the `species_configs` that are varies as part of the probablistic sampling. This makes heavy use of the `fill()` convenience function."
      ],
      "id": "3792ce8b"
    },
    {
      "cell_type": "code",
      "execution_count": null,
      "metadata": {
        "id": "52a66859"
      },
      "outputs": [],
      "source": [
        "# carbon cycle\n",
        "fill(f.species_configs[\"iirf_0\"], df_configs[\"cc_r0\"].values.squeeze(), specie=\"CO2\")\n",
        "fill(f.species_configs[\"iirf_airborne\"], df_configs[\"cc_rA\"].values.squeeze(), specie=\"CO2\")\n",
        "fill(f.species_configs[\"iirf_uptake\"], df_configs[\"cc_rU\"].values.squeeze(), specie=\"CO2\")\n",
        "fill(f.species_configs[\"iirf_temperature\"], df_configs[\"cc_rT\"].values.squeeze(), specie=\"CO2\")\n",
        "\n",
        "# aerosol indirect\n",
        "fill(f.species_configs[\"aci_scale\"], df_configs[\"aci_beta\"].values.squeeze())\n",
        "fill(f.species_configs[\"aci_shape\"], df_configs[\"aci_shape_so2\"].values.squeeze(), specie=\"Sulfur\")\n",
        "fill(f.species_configs[\"aci_shape\"], df_configs[\"aci_shape_bc\"].values.squeeze(), specie=\"BC\")\n",
        "fill(f.species_configs[\"aci_shape\"], df_configs[\"aci_shape_oc\"].values.squeeze(), specie=\"OC\")\n",
        "\n",
        "# aerosol direct\n",
        "for specie in [\n",
        "    \"BC\",\n",
        "    \"CH4\",\n",
        "    \"N2O\",\n",
        "    \"NH3\",\n",
        "    \"NOx\",\n",
        "    \"OC\",\n",
        "    \"Sulfur\",\n",
        "    \"VOC\",\n",
        "    \"Equivalent effective stratospheric chlorine\"\n",
        "]:\n",
        "    fill(f.species_configs[\"erfari_radiative_efficiency\"], df_configs[f\"ari_{specie}\"], specie=specie)\n",
        "\n",
        "# forcing scaling\n",
        "for specie in [\n",
        "    \"CO2\",\n",
        "    \"CH4\",\n",
        "    \"N2O\",\n",
        "    \"Stratospheric water vapour\",\n",
        "    \"Contrails\",\n",
        "    \"Light absorbing particles on snow and ice\",\n",
        "    \"Land use\"\n",
        "]:\n",
        "    fill(f.species_configs[\"forcing_scale\"], df_configs[f\"fscale_{specie}\"].values.squeeze(), specie=specie)\n",
        "# the halogenated gases all take the same scale factor\n",
        "for specie in [\n",
        "    \"CFC-11\",\n",
        "    \"CFC-12\",\n",
        "    \"CFC-113\",\n",
        "    \"CFC-114\",\n",
        "    \"CFC-115\",\n",
        "    \"HCFC-22\",\n",
        "    \"HCFC-141b\",\n",
        "    \"HCFC-142b\",\n",
        "    \"CCl4\",\n",
        "    \"CHCl3\",\n",
        "    \"CH2Cl2\",\n",
        "    \"CH3Cl\",\n",
        "    \"CH3CCl3\",\n",
        "    \"CH3Br\",\n",
        "    \"Halon-1211\",\n",
        "    \"Halon-1301\",\n",
        "    \"Halon-2402\",\n",
        "    \"CF4\",\n",
        "    \"C2F6\",\n",
        "    \"C3F8\",\n",
        "    \"c-C4F8\",\n",
        "    \"C4F10\",\n",
        "    \"C5F12\",\n",
        "    \"C6F14\",\n",
        "    \"C7F16\",\n",
        "    \"C8F18\",\n",
        "    \"NF3\",\n",
        "    \"SF6\",\n",
        "    \"SO2F2\",\n",
        "    \"HFC-125\",\n",
        "    \"HFC-134a\",\n",
        "    \"HFC-143a\",\n",
        "    \"HFC-152a\",\n",
        "    \"HFC-227ea\",\n",
        "    \"HFC-23\",\n",
        "    \"HFC-236fa\",\n",
        "    \"HFC-245fa\",\n",
        "    \"HFC-32\",\n",
        "    \"HFC-365mfc\",\n",
        "    \"HFC-4310mee\",\n",
        "]:\n",
        "    fill(f.species_configs[\"forcing_scale\"], df_configs[\"fscale_minorGHG\"].values.squeeze(), specie=specie)\n",
        "\n",
        "# ozone\n",
        "for specie in [\"CH4\", \"N2O\", \"Equivalent effective stratospheric chlorine\", \"CO\", \"VOC\", \"NOx\"]:\n",
        "    fill(f.species_configs[\"ozone_radiative_efficiency\"], df_configs[f\"o3_{specie}\"], specie=specie)\n",
        "\n",
        "# initial value of CO2 concentration (but not baseline for forcing calculations)\n",
        "fill(\n",
        "    f.species_configs[\"baseline_concentration\"],\n",
        "    df_configs[\"cc_co2_concentration_1750\"].values.squeeze(),\n",
        "    specie=\"CO2\"\n",
        ")"
      ],
      "id": "52a66859"
    },
    {
      "cell_type": "markdown",
      "metadata": {
        "id": "84b0bfb6"
      },
      "source": [
        "### 8d. Initial conditions\n",
        "\n",
        "It's important these are defined, as they are NaN by default, and it's likely you'll run into problems."
      ],
      "id": "84b0bfb6"
    },
    {
      "cell_type": "code",
      "execution_count": null,
      "metadata": {
        "id": "5e9e0ef0"
      },
      "outputs": [],
      "source": [
        "initialise(f.concentration, f.species_configs[\"baseline_concentration\"])\n",
        "initialise(f.forcing, 0)\n",
        "initialise(f.temperature, 0)\n",
        "initialise(f.cumulative_emissions, 0)\n",
        "initialise(f.airborne_emissions, 0)"
      ],
      "id": "5e9e0ef0"
    },
    {
      "cell_type": "markdown",
      "metadata": {
        "id": "30b948f5"
      },
      "source": [
        "# Timewarp stuff\n"
      ],
      "id": "30b948f5"
    },
    {
      "cell_type": "code",
      "source": [
        "emis_co2=f.emissions.loc[dict(scenario='ssp119',config=1230,specie='CO2 FFI')].copy()"
      ],
      "metadata": {
        "id": "Z_UgI1AMAk7r"
      },
      "id": "Z_UgI1AMAk7r",
      "execution_count": null,
      "outputs": []
    },
    {
      "cell_type": "markdown",
      "source": [
        "Time shift function -"
      ],
      "metadata": {
        "id": "8rjyeLB9K99s"
      },
      "id": "8rjyeLB9K99s"
    },
    {
      "cell_type": "code",
      "source": [
        "def timewarp(tim_in,start,mid,end):\n",
        "  # tim_in = input time vector\n",
        "  # start = start time for accelerated timeline\n",
        "  # mid = new time we get to the emissions at the original 'halfway' point\n",
        "  # end = end time when we rejoin the original timeline\n",
        "  tim_out=tim_in.copy()\n",
        "  omid=0.5*(start+end)\n",
        "  tim_out[(tim_in>=start)&(tim_in<mid)]=(np.arange(start,mid)-start)/(mid-start)*(omid-start)+start\n",
        "  tim_out[(tim_in>=mid)&(tim_in<end)]=(np.arange(mid,end)-mid)/(end-mid)*(end-omid)+omid\n",
        "  return tim_out"
      ],
      "metadata": {
        "id": "p-yM2BmaA36_"
      },
      "id": "p-yM2BmaA36_",
      "execution_count": null,
      "outputs": []
    },
    {
      "cell_type": "code",
      "source": [
        "acceltime=timewarp(f.emissions.timepoints.values,2025,2035,2075)"
      ],
      "metadata": {
        "id": "cLMkG_VGAv7W"
      },
      "id": "cLMkG_VGAv7W",
      "execution_count": null,
      "outputs": []
    },
    {
      "cell_type": "code",
      "source": [
        "plt.plot(f.emissions.timepoints.values,acceltime)\n",
        "plt.xlabel('time')\n",
        "plt.ylabel('year to get emissions from')\n",
        "plt.xlim(2000,2100)\n",
        "plt.ylim(2000,2100)\n",
        "plt.grid()"
      ],
      "metadata": {
        "colab": {
          "base_uri": "https://localhost:8080/",
          "height": 455
        },
        "id": "5i1pcUjOJmbS",
        "outputId": "dd9017cc-a9e8-438a-cc16-dcaf74330922"
      },
      "id": "5i1pcUjOJmbS",
      "execution_count": null,
      "outputs": [
        {
          "output_type": "display_data",
          "data": {
            "text/plain": [
              "<Figure size 640x480 with 1 Axes>"
            ],
            "image/png": "[encoded data removed]"
          },
          "metadata": {}
        }
      ]
    },
    {
      "cell_type": "code",
      "source": [
        "plt.plot(f.emissions.timepoints.values,np.interp(acceltime,f.emissions.timepoints.values,emis_co2),'tab:red')\n",
        "plt.plot(f.emissions.timepoints.values,emis_co2,'tab:blue')"
      ],
      "metadata": {
        "colab": {
          "base_uri": "https://localhost:8080/",
          "height": 448
        },
        "id": "4ZA0zU0xEpe7",
        "outputId": "8a3a6893-ab32-433d-c3f8-a8af334e8711"
      },
      "id": "4ZA0zU0xEpe7",
      "execution_count": null,
      "outputs": [
        {
          "output_type": "execute_result",
          "data": {
            "text/plain": [
              "[<matplotlib.lines.Line2D at 0x7f8157ac9450>]"
            ]
          },
          "metadata": {},
          "execution_count": 28
        },
        {
          "output_type": "display_data",
          "data": {
            "text/plain": [
              "<Figure size 640x480 with 1 Axes>"
            ],
            "image/png": "[encoded data removed]"
          },
          "metadata": {}
        }
      ]
    },
    {
      "cell_type": "code",
      "source": [
        "emis_acc=f.emissions.loc[dict(scenario='ssp119')].interp(timepoints=acceltime)"
      ],
      "metadata": {
        "id": "7tCZE-1qF8_T"
      },
      "id": "7tCZE-1qF8_T",
      "execution_count": null,
      "outputs": []
    },
    {
      "cell_type": "code",
      "source": [
        "emis_acc['timepoints'] = f.emissions.timepoints.values"
      ],
      "metadata": {
        "id": "YZ9_dpTAGceI"
      },
      "id": "YZ9_dpTAGceI",
      "execution_count": null,
      "outputs": []
    },
    {
      "cell_type": "code",
      "source": [
        "f.emissions.loc[dict(scenario='ssp119',config=1230,specie='CO2 FFI')].plot()\n",
        "emis_acc.loc[dict(config=1230,specie='CO2 FFI')].plot(color='r')\n"
      ],
      "metadata": {
        "colab": {
          "base_uri": "https://localhost:8080/",
          "height": 490
        },
        "id": "EqMWhwz9Gn3g",
        "outputId": "73f4b672-8f29-462e-8aed-c0366b9ba089"
      },
      "id": "EqMWhwz9Gn3g",
      "execution_count": null,
      "outputs": [
        {
          "output_type": "execute_result",
          "data": {
            "text/plain": [
              "[<matplotlib.lines.Line2D at 0x7f829920cc10>]"
            ]
          },
          "metadata": {},
          "execution_count": 31
        },
        {
          "output_type": "display_data",
          "data": {
            "text/plain": [
              "<Figure size 640x480 with 1 Axes>"
            ],
            "image/png": "[encoded data removed]"
          },
          "metadata": {}
        }
      ]
    },
    {
      "cell_type": "markdown",
      "source": [
        "Using the SSP126 space to store the accelerated timeline because I can't work outn how to change the name"
      ],
      "metadata": {
        "id": "Tf9sYPebPGkZ"
      },
      "id": "Tf9sYPebPGkZ"
    },
    {
      "cell_type": "code",
      "source": [
        "f.emissions.loc[dict(scenario='ssp126')]=emis_acc"
      ],
      "metadata": {
        "id": "lfPUdIOfG9oL"
      },
      "id": "lfPUdIOfG9oL",
      "execution_count": null,
      "outputs": []
    },
    {
      "cell_type": "code",
      "execution_count": null,
      "metadata": {
        "id": "8NeIFpV1QXcl",
        "colab": {
          "base_uri": "https://localhost:8080/",
          "height": 49,
          "referenced_widgets": [
            "a18f020cb2e54e5291192ac8c8eedf69",
            "70f2ad9955cb400c8be0bef687c778d1",
            "9757eb0fbe93405e92d1e06723dfea79",
            "7972ff452d9346cead3085626402aab7",
            "a7f948eac29e433c92970eda4dcf67fe",
            "11c5322375c944828b3aee5ee60c4e36",
            "860552c1ae324147b6dba9383bb81458",
            "ba3238390f8847fa8897f6b5ee3c8841",
            "12d58a20d6534422a5e966cadc723ac1",
            "e38e5824d40a49699419b5902de441d6",
            "6cedadc185534b52b3bf185cfae96477"
          ]
        },
        "outputId": "726b6c1c-7086-4cd7-ffb7-ee0457d61df5"
      },
      "outputs": [
        {
          "output_type": "display_data",
          "data": {
            "text/plain": [
              "Running 2002 projections in parallel:   0%|          | 0/550 [00:00<?, ?timesteps/s]"
            ],
            "application/vnd.jupyter.widget-view+json": {
              "version_major": 2,
              "version_minor": 0,
              "model_id": "a18f020cb2e54e5291192ac8c8eedf69"
            }
          },
          "metadata": {}
        }
      ],
      "source": [
        "f.run()\n"
      ],
      "id": "8NeIFpV1QXcl"
    },
    {
      "cell_type": "code",
      "source": [
        "#pl.plot(f.timebounds, f.temperature.loc[dict(scenario='ssp126', layer=0)], label=f.configs);\n",
        "p1=range_plot(plt.gca(),f.temperature.loc[dict( layer=0)],'ssp119','r', label='ssp119')\n",
        "p1=range_plot(plt.gca(),f.temperature.loc[dict( layer=0)],'ssp126','b', label='ssp119_accel')\n",
        "plt.legend()\n",
        "pl.xlabel('year')\n",
        "pl.ylabel('Temperature anomaly (K)')"
      ],
      "metadata": {
        "colab": {
          "base_uri": "https://localhost:8080/",
          "height": 467
        },
        "id": "47ZQBlWZuirJ",
        "outputId": "7594f4ab-9cc8-498a-fddd-e254a7a2ebcd"
      },
      "id": "47ZQBlWZuirJ",
      "execution_count": null,
      "outputs": [
        {
          "output_type": "execute_result",
          "data": {
            "text/plain": [
              "Text(0, 0.5, 'Temperature anomaly (K)')"
            ]
          },
          "metadata": {},
          "execution_count": 35
        },
        {
          "output_type": "display_data",
          "data": {
            "text/plain": [
              "<Figure size 640x480 with 1 Axes>"
            ],
            "image/png": "[encoded data removed]"
          },
          "metadata": {}
        }
      ]
    },
    {
      "cell_type": "code",
      "source": [
        "#pl.plot(f.timebounds, f.temperature.loc[dict(scenario='ssp126', layer=0)], label=f.configs);\n",
        "p1=range_plot(plt.gca(),f.emissions.loc[dict( specie='CO2 FFI')],'ssp119','r', label='ssp119')\n",
        "p1=range_plot(plt.gca(),f.emissions.loc[dict( specie='CO2 FFI')],'ssp126','b', label='ssp119_accel')\n",
        "plt.legend()\n",
        "pl.xlabel('year')\n",
        "pl.ylabel('FF CO2 emissions (GtCO2)')"
      ],
      "metadata": {
        "colab": {
          "base_uri": "https://localhost:8080/",
          "height": 467
        },
        "id": "iRTEy38TJX9v",
        "outputId": "52617bc5-ad72-407a-afd2-bd67a5668117"
      },
      "id": "iRTEy38TJX9v",
      "execution_count": null,
      "outputs": [
        {
          "output_type": "execute_result",
          "data": {
            "text/plain": [
              "Text(0, 0.5, 'FF CO2 emissions (GtCO2)')"
            ]
          },
          "metadata": {},
          "execution_count": 36
        },
        {
          "output_type": "display_data",
          "data": {
            "text/plain": [
              "<Figure size 640x480 with 1 Axes>"
            ],
            "image/png": "[encoded data removed]"
          },
          "metadata": {}
        }
      ]
    },
    {
      "cell_type": "code",
      "source": [
        "#pl.plot(f.timebounds, f.temperature.loc[dict(scenario='ssp126', layer=0)], label=f.configs);\n",
        "p1=range_plot(plt.gca(),f.emissions.loc[dict( specie='CH4')],'ssp119','r', label='ssp119')\n",
        "p1=range_plot(plt.gca(),f.emissions.loc[dict( specie='CH4')],'ssp126','b', label='ssp119_accel')\n",
        "plt.legend()\n",
        "pl.xlabel('year')\n",
        "pl.ylabel('CH4 emissions')"
      ],
      "metadata": {
        "colab": {
          "base_uri": "https://localhost:8080/",
          "height": 467
        },
        "id": "cGoTT2kzu15z",
        "outputId": "18f04d1f-16f2-4773-b813-517ddc34a0d8"
      },
      "id": "cGoTT2kzu15z",
      "execution_count": null,
      "outputs": [
        {
          "output_type": "execute_result",
          "data": {
            "text/plain": [
              "Text(0, 0.5, 'CH4 emissions')"
            ]
          },
          "metadata": {},
          "execution_count": 37
        },
        {
          "output_type": "display_data",
          "data": {
            "text/plain": [
              "<Figure size 640x480 with 1 Axes>"
            ],
            "image/png": "[encoded data removed]"
          },
          "metadata": {}
        }
      ]
    }
  ],
  "metadata": {
    "colab": {
      "machine_shape": "hm",
      "provenance": [],
      "include_colab_link": true
    },
    "kernelspec": {
      "display_name": "Python 3",
      "name": "python3"
    },
    "language_info": {
      "codemirror_mode": {
        "name": "ipython",
        "version": 3
      },
      "file_extension": ".py",
      "mimetype": "text/x-python",
      "name": "python",
      "nbconvert_exporter": "python",
      "pygments_lexer": "ipython3",
      "version": "3.11.2"
    },
    "widgets": {
      "application/vnd.jupyter.widget-state+json": {
        "a18f020cb2e54e5291192ac8c8eedf69": {
          "model_module": "@jupyter-widgets/controls",
          "model_name": "HBoxModel",
          "model_module_version": "1.5.0",
          "state": {
            "_dom_classes": [],
            "_model_module": "@jupyter-widgets/controls",
            "_model_module_version": "1.5.0",
            "_model_name": "HBoxModel",
            "_view_count": null,
            "_view_module": "@jupyter-widgets/controls",
            "_view_module_version": "1.5.0",
            "_view_name": "HBoxView",
            "box_style": "",
            "children": [
              "IPY_MODEL_70f2ad9955cb400c8be0bef687c778d1",
              "IPY_MODEL_9757eb0fbe93405e92d1e06723dfea79",
              "IPY_MODEL_7972ff452d9346cead3085626402aab7"
            ],
            "layout": "IPY_MODEL_a7f948eac29e433c92970eda4dcf67fe"
          }
        },
        "70f2ad9955cb400c8be0bef687c778d1": {
          "model_module": "@jupyter-widgets/controls",
          "model_name": "HTMLModel",
          "model_module_version": "1.5.0",
          "state": {
            "_dom_classes": [],
            "_model_module": "@jupyter-widgets/controls",
            "_model_module_version": "1.5.0",
            "_model_name": "HTMLModel",
            "_view_count": null,
            "_view_module": "@jupyter-widgets/controls",
            "_view_module_version": "1.5.0",
            "_view_name": "HTMLView",
            "description": "",
            "description_tooltip": null,
            "layout": "IPY_MODEL_11c5322375c944828b3aee5ee60c4e36",
            "placeholder": "​",
            "style": "IPY_MODEL_860552c1ae324147b6dba9383bb81458",
            "value": "Running 2002 projections in parallel: 100%"
          }
        },
        "9757eb0fbe93405e92d1e06723dfea79": {
          "model_module": "@jupyter-widgets/controls",
          "model_name": "FloatProgressModel",
          "model_module_version": "1.5.0",
          "state": {
            "_dom_classes": [],
            "_model_module": "@jupyter-widgets/controls",
            "_model_module_version": "1.5.0",
            "_model_name": "FloatProgressModel",
            "_view_count": null,
            "_view_module": "@jupyter-widgets/controls",
            "_view_module_version": "1.5.0",
            "_view_name": "ProgressView",
            "bar_style": "success",
            "description": "",
            "description_tooltip": null,
            "layout": "IPY_MODEL_ba3238390f8847fa8897f6b5ee3c8841",
            "max": 550,
            "min": 0,
            "orientation": "horizontal",
            "style": "IPY_MODEL_12d58a20d6534422a5e966cadc723ac1",
            "value": 550
          }
        },
        "7972ff452d9346cead3085626402aab7": {
          "model_module": "@jupyter-widgets/controls",
          "model_name": "HTMLModel",
          "model_module_version": "1.5.0",
          "state": {
            "_dom_classes": [],
            "_model_module": "@jupyter-widgets/controls",
            "_model_module_version": "1.5.0",
            "_model_name": "HTMLModel",
            "_view_count": null,
            "_view_module": "@jupyter-widgets/controls",
            "_view_module_version": "1.5.0",
            "_view_name": "HTMLView",
            "description": "",
            "description_tooltip": null,
            "layout": "IPY_MODEL_e38e5824d40a49699419b5902de441d6",
            "placeholder": "​",
            "style": "IPY_MODEL_6cedadc185534b52b3bf185cfae96477",
            "value": " 550/550 [00:26&lt;00:00, 21.50timesteps/s]"
          }
        },
        "a7f948eac29e433c92970eda4dcf67fe": {
          "model_module": "@jupyter-widgets/base",
          "model_name": "LayoutModel",
          "model_module_version": "1.2.0",
          "state": {
            "_model_module": "@jupyter-widgets/base",
            "_model_module_version": "1.2.0",
            "_model_name": "LayoutModel",
            "_view_count": null,
            "_view_module": "@jupyter-widgets/base",
            "_view_module_version": "1.2.0",
            "_view_name": "LayoutView",
            "align_content": null,
            "align_items": null,
            "align_self": null,
            "border": null,
            "bottom": null,
            "display": null,
            "flex": null,
            "flex_flow": null,
            "grid_area": null,
            "grid_auto_columns": null,
            "grid_auto_flow": null,
            "grid_auto_rows": null,
            "grid_column": null,
            "grid_gap": null,
            "grid_row": null,
            "grid_template_areas": null,
            "grid_template_columns": null,
            "grid_template_rows": null,
            "height": null,
            "justify_content": null,
            "justify_items": null,
            "left": null,
            "margin": null,
            "max_height": null,
            "max_width": null,
            "min_height": null,
            "min_width": null,
            "object_fit": null,
            "object_position": null,
            "order": null,
            "overflow": null,
            "overflow_x": null,
            "overflow_y": null,
            "padding": null,
            "right": null,
            "top": null,
            "visibility": null,
            "width": null
          }
        },
        "11c5322375c944828b3aee5ee60c4e36": {
          "model_module": "@jupyter-widgets/base",
          "model_name": "LayoutModel",
          "model_module_version": "1.2.0",
          "state": {
            "_model_module": "@jupyter-widgets/base",
            "_model_module_version": "1.2.0",
            "_model_name": "LayoutModel",
            "_view_count": null,
            "_view_module": "@jupyter-widgets/base",
            "_view_module_version": "1.2.0",
            "_view_name": "LayoutView",
            "align_content": null,
            "align_items": null,
            "align_self": null,
            "border": null,
            "bottom": null,
            "display": null,
            "flex": null,
            "flex_flow": null,
            "grid_area": null,
            "grid_auto_columns": null,
            "grid_auto_flow": null,
            "grid_auto_rows": null,
            "grid_column": null,
            "grid_gap": null,
            "grid_row": null,
            "grid_template_areas": null,
            "grid_template_columns": null,
            "grid_template_rows": null,
            "height": null,
            "justify_content": null,
            "justify_items": null,
            "left": null,
            "margin": null,
            "max_height": null,
            "max_width": null,
            "min_height": null,
            "min_width": null,
            "object_fit": null,
            "object_position": null,
            "order": null,
            "overflow": null,
            "overflow_x": null,
            "overflow_y": null,
            "padding": null,
            "right": null,
            "top": null,
            "visibility": null,
            "width": null
          }
        },
        "860552c1ae324147b6dba9383bb81458": {
          "model_module": "@jupyter-widgets/controls",
          "model_name": "DescriptionStyleModel",
          "model_module_version": "1.5.0",
          "state": {
            "_model_module": "@jupyter-widgets/controls",
            "_model_module_version": "1.5.0",
            "_model_name": "DescriptionStyleModel",
            "_view_count": null,
            "_view_module": "@jupyter-widgets/base",
            "_view_module_version": "1.2.0",
            "_view_name": "StyleView",
            "description_width": ""
          }
        },
        "ba3238390f8847fa8897f6b5ee3c8841": {
          "model_module": "@jupyter-widgets/base",
          "model_name": "LayoutModel",
          "model_module_version": "1.2.0",
          "state": {
            "_model_module": "@jupyter-widgets/base",
            "_model_module_version": "1.2.0",
            "_model_name": "LayoutModel",
            "_view_count": null,
            "_view_module": "@jupyter-widgets/base",
            "_view_module_version": "1.2.0",
            "_view_name": "LayoutView",
            "align_content": null,
            "align_items": null,
            "align_self": null,
            "border": null,
            "bottom": null,
            "display": null,
            "flex": null,
            "flex_flow": null,
            "grid_area": null,
            "grid_auto_columns": null,
            "grid_auto_flow": null,
            "grid_auto_rows": null,
            "grid_column": null,
            "grid_gap": null,
            "grid_row": null,
            "grid_template_areas": null,
            "grid_template_columns": null,
            "grid_template_rows": null,
            "height": null,
            "justify_content": null,
            "justify_items": null,
            "left": null,
            "margin": null,
            "max_height": null,
            "max_width": null,
            "min_height": null,
            "min_width": null,
            "object_fit": null,
            "object_position": null,
            "order": null,
            "overflow": null,
            "overflow_x": null,
            "overflow_y": null,
            "padding": null,
            "right": null,
            "top": null,
            "visibility": null,
            "width": null
          }
        },
        "12d58a20d6534422a5e966cadc723ac1": {
          "model_module": "@jupyter-widgets/controls",
          "model_name": "ProgressStyleModel",
          "model_module_version": "1.5.0",
          "state": {
            "_model_module": "@jupyter-widgets/controls",
            "_model_module_version": "1.5.0",
            "_model_name": "ProgressStyleModel",
            "_view_count": null,
            "_view_module": "@jupyter-widgets/base",
            "_view_module_version": "1.2.0",
            "_view_name": "StyleView",
            "bar_color": null,
            "description_width": ""
          }
        },
        "e38e5824d40a49699419b5902de441d6": {
          "model_module": "@jupyter-widgets/base",
          "model_name": "LayoutModel",
          "model_module_version": "1.2.0",
          "state": {
            "_model_module": "@jupyter-widgets/base",
            "_model_module_version": "1.2.0",
            "_model_name": "LayoutModel",
            "_view_count": null,
            "_view_module": "@jupyter-widgets/base",
            "_view_module_version": "1.2.0",
            "_view_name": "LayoutView",
            "align_content": null,
            "align_items": null,
            "align_self": null,
            "border": null,
            "bottom": null,
            "display": null,
            "flex": null,
            "flex_flow": null,
            "grid_area": null,
            "grid_auto_columns": null,
            "grid_auto_flow": null,
            "grid_auto_rows": null,
            "grid_column": null,
            "grid_gap": null,
            "grid_row": null,
            "grid_template_areas": null,
            "grid_template_columns": null,
            "grid_template_rows": null,
            "height": null,
            "justify_content": null,
            "justify_items": null,
            "left": null,
            "margin": null,
            "max_height": null,
            "max_width": null,
            "min_height": null,
            "min_width": null,
            "object_fit": null,
            "object_position": null,
            "order": null,
            "overflow": null,
            "overflow_x": null,
            "overflow_y": null,
            "padding": null,
            "right": null,
            "top": null,
            "visibility": null,
            "width": null
          }
        },
        "6cedadc185534b52b3bf185cfae96477": {
          "model_module": "@jupyter-widgets/controls",
          "model_name": "DescriptionStyleModel",
          "model_module_version": "1.5.0",
          "state": {
            "_model_module": "@jupyter-widgets/controls",
            "_model_module_version": "1.5.0",
            "_model_name": "DescriptionStyleModel",
            "_view_count": null,
            "_view_module": "@jupyter-widgets/base",
            "_view_module_version": "1.2.0",
            "_view_name": "StyleView",
            "description_width": ""
          }
        }
      }
    }
  },
  "nbformat": 4,
  "nbformat_minor": 5
}