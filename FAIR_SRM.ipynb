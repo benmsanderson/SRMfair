{
  "cells": [
    {
      "cell_type": "markdown",
      "metadata": {
        "id": "view-in-github",
        "colab_type": "text"
      },
      "source": [
        "<a href=\"https://colab.research.google.com/github/benmsanderson/SRMfair/blob/main/FAIR_SRM.ipynb\" target=\"_parent\"><img src=\"https://colab.research.google.com/assets/colab-badge.svg\" alt=\"Open In Colab\"/></a>"
      ]
    },
    {
      "cell_type": "code",
      "execution_count": null,
      "metadata": {
        "id": "nEtwp3br3Gpu"
      },
      "outputs": [],
      "source": [
        "%matplotlib inline"
      ]
    },
    {
      "cell_type": "code",
      "execution_count": null,
      "metadata": {
        "id": "ijrL9O6W3Gpv"
      },
      "outputs": [],
      "source": [
        "!pip install fair==1.6.4\n",
        "import fair"
      ]
    },
    {
      "cell_type": "code",
      "execution_count": null,
      "metadata": {
        "id": "wJxE51b83Gpv"
      },
      "outputs": [],
      "source": [
        "import numpy as np\n",
        "from scipy import stats\n",
        "from scipy import signal\n",
        "from fair.tools.ensemble import tcrecs_generate\n",
        "import pandas as pd\n",
        "from matplotlib import pyplot as plt\n",
        "plt.style.use('seaborn-muted')\n",
        "plt.rcParams['figure.figsize'] = (16, 9)"
      ]
    },
    {
      "cell_type": "code",
      "execution_count": null,
      "metadata": {
        "id": "xarbiWyd3kNK"
      },
      "outputs": [],
      "source": [
        "from fair.RCPs import rcp3pd, rcp45, rcp6, rcp85\n",
        "from fair.SSPs import ssp370, ssp126, ssp585, ssp119,ssp245,ssp534, ssp460"
      ]
    },
    {
      "cell_type": "code",
      "execution_count": null,
      "metadata": {
        "id": "SJYmLH0k55Q0"
      },
      "outputs": [],
      "source": [
        "#start with test simulations built on SSP3-RCP7\n",
        "ssp370.Emissions.year[257]\n",
        "g10_rf=ssp370.Emissions.emissions[:,1]*0\n",
        "g10_rf[257:287]=-60*np.exp(-np.arange(1,31,1)/6.3)\n",
        "g5_rf=ssp370.Emissions.emissions[:,1]*0\n",
        "g5_rf[257:287]=-27*np.exp(-np.arange(1,31,1)/6.3)\n",
        "g1_rf=ssp370.Emissions.emissions[:,1]*0\n",
        "g1_rf[257:287]=-6*np.exp(-np.arange(1,31,1)/6.3)"
      ]
    },
    {
      "cell_type": "code",
      "execution_count": null,
      "metadata": {
        "id": "Mel-RWvn-XJm"
      },
      "outputs": [],
      "source": [
        "#function to simulate nuclear pulse given initial forcing level and decay time\n",
        "def nfn(a,t):\n",
        "  ans=ssp370.Emissions.emissions[:,1]*0\n",
        "  ans[257:307]=-a*np.exp(-np.arange(1,51,1)/t)\n",
        "  return ans"
      ]
    },
    {
      "cell_type": "code",
      "execution_count": null,
      "metadata": {
        "id": "TOfX_U54SMgd"
      },
      "outputs": [],
      "source": [
        "#function to simulate nuclear pulse given initial forcing level and decay time\n",
        "def sfn(a,t):\n",
        "  ans=ssp370.Emissions.emissions[:,1]*0\n",
        "  ans[0:306]=-a*np.exp(-np.arange(1,307,1)/t)\n",
        "  return ans"
      ]
    },
    {
      "cell_type": "code",
      "execution_count": null,
      "metadata": {
        "id": "1IfAnomkSxD6"
      },
      "outputs": [],
      "source": [
        "len(ssp370.Emissions.emissions[:,1]*0)\n"
      ]
    },
    {
      "cell_type": "code",
      "execution_count": null,
      "metadata": {
        "id": "iIYz54eUTHjJ"
      },
      "outputs": [],
      "source": [
        "sfn(2,5).shape"
      ]
    },
    {
      "cell_type": "code",
      "execution_count": null,
      "metadata": {
        "id": "OAWpRMvx3Gpz"
      },
      "outputs": [],
      "source": [
        "\n",
        "fig = plt.figure(figsize=(12, 11))\n",
        "ax1 = fig.add_subplot(221)\n",
        "ax2 = fig.add_subplot(222)\n",
        "ax3 = fig.add_subplot(223)\n",
        "ax4 = fig.add_subplot(224)\n",
        "#conventional SSP-RCPs\n",
        "C26, F26, T26 = fair.forward.fair_scm(emissions=ssp126.Emissions.emissions)\n",
        "ax1.plot(rcp3pd.Emissions.year, ssp126.Emissions.co2_fossil, color='green', label='SSP126')\n",
        "ax2.plot(rcp3pd.Emissions.year, C26[:, 0], color='green')\n",
        "ax3.plot(rcp3pd.Emissions.year, np.sum(F26, axis=1), color='green')\n",
        "ax4.plot(rcp3pd.Emissions.year, T26, color='green')\n",
        "\n",
        "C37, F37, T37 = fair.forward.fair_scm(emissions=ssp370.Emissions.emissions)\n",
        "C45, F45, T45 = fair.forward.fair_scm(emissions=ssp245.Emissions.emissions)\n",
        "ax1.plot(rcp3pd.Emissions.year, ssp370.Emissions.co2_fossil, color='black', label='SSP370')\n",
        "ax2.plot(rcp3pd.Emissions.year, C37[:, 0], color='black')\n",
        "ax3.plot(rcp3pd.Emissions.year, np.sum(F37, axis=1), color='black')\n",
        "ax4.plot(rcp3pd.Emissions.year, T37, color='black')\n",
        "\n",
        "ax1.plot(rcp3pd.Emissions.year, ssp370.Emissions.co2_fossil, color='black', label='SSP370')\n",
        "ax2.plot(rcp3pd.Emissions.year, C37[:, 0], color='black')\n",
        "ax3.plot(rcp3pd.Emissions.year, np.sum(F37, axis=1), color='black')\n",
        "ax4.plot(rcp3pd.Emissions.year, T37, color='black')\n",
        "\n",
        "C37g0, F37g0, T37g0 = fair.forward.fair_scm(emissions=np.sum(ssp370.Emissions.emissions[:,1:3],axis=1),other_rf=np.sum(F37[:,1:], axis=1),\n",
        "    useMultigas=False)\n",
        "ax1.plot(rcp3pd.Emissions.year, ssp370.Emissions.co2_fossil, color='y', label='SSP370_10G')\n",
        "ax2.plot(rcp3pd.Emissions.year, C37g0, color='y',linestyle=':')\n",
        "ax3.plot(rcp3pd.Emissions.year, F37g0, color='y',linestyle=':')\n",
        "ax4.plot(rcp3pd.Emissions.year, T37g0, color='y',linestyle=':')\n",
        "\n",
        "#for the nuclear simulations, we run with Mutligas off.  nonco2 radiative forcing from the baseline case is used, in addition to the nuclear pulse in the other_rf term\n",
        "#the following forcings were munually adjusted to 65 and 30Wm^-2 to match the 2 and 8k cooling seen in Robock 2007\n",
        "\n",
        "\n",
        "srmsig=np.hstack((np.zeros((256)),.2*np.ones((50)),np.zeros((430))))\n",
        "srm_fcg=signal.convolve(srmsig,sfn(1,5),mode='full')[:736]\n",
        "\n",
        "C37g150, F37g150, T37g150 = fair.forward.fair_scm(emissions=np.sum(ssp370.Emissions.emissions[:,1:3],axis=1),other_rf=srm_fcg+np.sum(F37[:,1:], axis=1),\n",
        "    useMultigas=False)\n",
        "ax1.plot(rcp3pd.Emissions.year, ssp370.Emissions.co2_fossil, color='darkred', label='SSP370_150')\n",
        "ax2.plot(rcp3pd.Emissions.year, C37g150, color='darkred')\n",
        "ax3.plot(rcp3pd.Emissions.year, F37g150, color='darkred')\n",
        "ax4.plot(rcp3pd.Emissions.year, T37g150, color='darkred')\n",
        "\n",
        "\n",
        "ax1.set_ylabel('Fossil CO$_2$ Emissions (GtC)')\n",
        "ax1.legend()\n",
        "ax2.set_ylabel('CO$_2$ concentrations (ppm)')\n",
        "ax3.set_ylabel('Total radiative forcing (W.m$^{-2}$)')\n",
        "ax4.set_ylabel('Temperature anomaly (K)');\n",
        "ax1.set_xlim(1850,2100)\n",
        "ax2.set_xlim(1850,2100)\n",
        "ax3.set_xlim(1850,2100)\n",
        "ax4.set_xlim(1850,2100)\n",
        "\n"
      ]
    },
    {
      "cell_type": "code",
      "source": [
        "yrs=np.arange(2020,2300)\n",
        "ems_bs=np.sum(ssp534.Emissions.emissions[:,1:3],axis=1)\n",
        "C34, F34, T34 = fair.forward.fair_scm(emissions=ssp534.Emissions.emissions)\n",
        "\n",
        "f_bs=np.sum(F34[:,1:11], axis=1)\n",
        "yr=ssp370.Emissions.emissions[:,0]\n",
        "C45g0, F45g0, T45g0 = fair.forward.fair_scm(emissions=ems_bs,other_rf=f_bs,useMultigas=False)"
      ],
      "metadata": {
        "id": "mq2He2wE-VpW"
      },
      "execution_count": null,
      "outputs": []
    },
    {
      "cell_type": "code",
      "source": [
        "def run_fair_clean(ems):\n",
        "  Ce, Fe, Te = fair.forward.fair_scm(emissions=ems.Emissions.emissions)\n",
        "  ems_bs=np.sum(ems.Emissions.emissions[:,1:3],axis=1)\n",
        "  f_bs=np.sum(Fe[:,1:11], axis=1)\n",
        "  C45g0, F45g0, T45g0 = fair.forward.fair_scm(emissions=ems_bs,other_rf=f_bs,useMultigas=False)\n",
        "  return C45g0, F45g0, T45g0"
      ],
      "metadata": {
        "id": "ZG8cCX9xXe6T"
      },
      "execution_count": null,
      "outputs": []
    },
    {
      "cell_type": "code",
      "execution_count": null,
      "metadata": {
        "id": "k3yVImCwEuav"
      },
      "outputs": [],
      "source": [
        "def adpt_fair(ems,sint,threshold,df,wd=2500,wf=1):\n",
        "  Ce, Fe, Te = fair.forward.fair_scm(emissions=ems.Emissions.emissions)\n",
        "  ems_bs=np.sum(ems.Emissions.emissions[:,1:3],axis=1)\n",
        "  f_bs=np.sum(Fe[:,1:11], axis=1)\n",
        "  C45g0, F45g0, T45g0 = fair.forward.fair_scm(emissions=ems_bs,other_rf=f_bs,useMultigas=False)\n",
        "\n",
        "  C0, F0, T0 = fair.forward.fair_scm(emissions=ems_bs*0,other_rf=f_bs*0,useMultigas=False)\n",
        "\n",
        "  Ttmp1=T45g0\n",
        "  srm1=f_bs*0\n",
        "  ems1=ems_bs.copy()\n",
        "  for i in np.arange(0,60):\n",
        "    Ctmp1, Ftmp1, Ttmp1 = fair.forward.fair_scm(emissions=ems1,other_rf=f_bs+srm1,useMultigas=False)\n",
        "    ovsht=(Ttmp1-threshold).clip(min=0)\n",
        "    srm1=srm1-ovsht/sint\n",
        "  srm_out=srm1*0\n",
        "  for i in np.arange(len(df)):\n",
        "    istart=int(df.loc[i]['Start']-ems.Emissions.emissions[0,0])\n",
        "    iend=int(df.loc[i]['End']-ems.Emissions.emissions[0,0])\n",
        "    ifade=int(df.loc[i]['fade'])\n",
        "\n",
        "    srm_out[istart:iend]=srm1[istart:iend]*df.loc[i].Effic\n",
        "    if ifade>0:\n",
        "      srm_out[iend:(iend+ifade)]=srm1[iend]*df.loc[i].Effic*(1-np.arange(0,ifade)/ifade)\n",
        "\n",
        "  wi=int(wd-ssp126.Emissions.emissions[0,0])\n",
        "  emsw=ems1.copy()\n",
        "  emsw[wi:]=ems1[wi:]*wf\n",
        "  Ctmp1, Ftmp1, Ttmp1 = fair.forward.fair_scm(emissions=emsw,other_rf=f_bs+srm_out,useMultigas=False)\n",
        "\n",
        "\n",
        "  return Ctmp1, Ftmp1, Ttmp1, srm_out, emsw"
      ]
    },
    {
      "cell_type": "code",
      "source": [
        "d = {'Start': [2025], 'End': [2150], 'Effic': [1.0], 'fade':[0]}\n",
        "df = pd.DataFrame(data=d)\n",
        "df"
      ],
      "metadata": {
        "id": "haarhgN0-jcm"
      },
      "execution_count": null,
      "outputs": []
    },
    {
      "cell_type": "code",
      "source": [
        "ssp534.Emissions.emissions[0,0]"
      ],
      "metadata": {
        "id": "kRlJKRx9ZgTF"
      },
      "execution_count": null,
      "outputs": []
    },
    {
      "cell_type": "code",
      "execution_count": null,
      "metadata": {
        "id": "f51HeWSuoQQN"
      },
      "outputs": [],
      "source": [
        "Ctmp1s, Ftmp1s, Ttmp1s, srm1s, ems1s=adpt_fair(ssp534,10,1.5,df)"
      ]
    },
    {
      "cell_type": "code",
      "source": [
        "gamma=-50\n",
        "beta=0.8"
      ],
      "metadata": {
        "id": "1CwCza6jUr7W"
      },
      "execution_count": null,
      "outputs": []
    },
    {
      "cell_type": "code",
      "execution_count": null,
      "metadata": {
        "id": "Q_JfE67UatSv"
      },
      "outputs": [],
      "source": [
        "fig = plt.figure(figsize=(5, 8))\n",
        "ax1 = fig.add_subplot(311)\n",
        "ax2 = fig.add_subplot(312)\n",
        "ax3 = fig.add_subplot(313)\n",
        "\n",
        "\n",
        "ax1.plot(yr,T34,'r',label='SSP534-over')\n",
        "ax1.plot(yr,Ttmp1s,'y',label='SSP534-geo')\n",
        "ax1.set_xlim([1990,2300])\n",
        "ax1.legend()\n",
        "ax1.set_ylabel('Warming (K)')\n",
        "\n",
        "ax2.plot(yr,ems_bs,'k',label='Emissions (FF+LU)')\n",
        "ax2.plot(yr,-gamma*np.diff(T45g0,prepend=0)-beta*np.diff(C45g0,prepend=C34[0,0]),'r',label='land+ocn sink (SSP534-over)')\n",
        "ax2.plot(yr,-gamma*np.diff(Ttmp1s,prepend=0)-beta*np.diff(Ctmp1s,prepend=C34[0,0]),'y',label='land+ocn sink (SSP534-geo)')\n",
        "ax2.set_ylabel('(GtC/yr)')\n",
        "\n",
        "ax2.legend()\n",
        "\n",
        "ax2.set_ylim([-10,20])\n",
        "\n",
        "#ax2.plot(yr,ems1s,'y')\n",
        "ax2.set_xlim([1990,2300])\n",
        "\n",
        "ax3.plot(yr,srm1s,'y')\n",
        "ax3.set_xlim([1990,2300])\n",
        "\n",
        "ax3.set_ylabel(r'$Wm^{-2}$')"
      ]
    },
    {
      "cell_type": "code",
      "source": [
        "scens=[ssp126, ssp585, ssp534, ssp460,ssp370,ssp245]"
      ],
      "metadata": {
        "id": "cr3yIYW7-UOG"
      },
      "execution_count": null,
      "outputs": []
    },
    {
      "cell_type": "code",
      "source": [
        "Cs=[0]*len(scens)\n",
        "Fs=[0]*len(scens)\n",
        "Ts=[0]*len(scens)\n",
        "ss=[0]*len(scens)\n",
        "es=[0]*len(scens)\n",
        "\n",
        "Co=[0]*len(scens)\n",
        "Fo=[0]*len(scens)\n",
        "To=[0]*len(scens)\n",
        "so=[0]*len(scens)\n",
        "eo=[0]*len(scens)"
      ],
      "metadata": {
        "id": "uYEWaMVpY_xj"
      },
      "execution_count": null,
      "outputs": []
    },
    {
      "cell_type": "code",
      "source": [
        "snames=['SSP126','SSP585','SSP534','SSP460','SSP370','SSP245']"
      ],
      "metadata": {
        "id": "juZL-XlGZktb"
      },
      "execution_count": null,
      "outputs": []
    },
    {
      "cell_type": "code",
      "source": [
        "for i in np.arange(len(scens)):\n",
        "  Co[i], Fo[i], To[i] = run_fair_clean(scens[i])"
      ],
      "metadata": {
        "id": "vecuF2xmZQNN"
      },
      "execution_count": null,
      "outputs": []
    },
    {
      "cell_type": "code",
      "source": [
        "d = {'Start': [2025], 'End': [2175], 'Effic': [1.0], 'fade':[0]}\n",
        "df = pd.DataFrame(data=d)\n",
        "Cs[0], Fs[0], Ts[0], ss[0], es[0]=adpt_fair(scens[0],10,1.5,df)\n",
        "\n"
      ],
      "metadata": {
        "id": "WgUUUd3aVsay"
      },
      "execution_count": null,
      "outputs": []
    },
    {
      "cell_type": "code",
      "source": [
        "#SSP585\n",
        "d = {'Start': [2025], 'End': [2200], 'Effic': [1.0], 'fade':[0]}\n",
        "df = pd.DataFrame(data=d)\n",
        "Cs[1], Fs[1], Ts[1], ss[1], es[1]=adpt_fair(scens[1],10,1.5,df)\n"
      ],
      "metadata": {
        "id": "oD9ksDPsYhYC"
      },
      "execution_count": null,
      "outputs": []
    },
    {
      "cell_type": "code",
      "source": [
        "d = {'Start': [2025], 'End': [2060], 'Effic': [1.0], 'fade':[0]}\n",
        "df = pd.DataFrame(data=d)\n",
        "Cs85_early, Fs85_early, Ts85_early, ss85_early,es85_early=adpt_fair(scens[1],10,1.5,df)\n"
      ],
      "metadata": {
        "id": "3MH51M8SbZKl"
      },
      "execution_count": null,
      "outputs": []
    },
    {
      "cell_type": "code",
      "source": [
        "d = {'Start': [2025], 'End': [2150], 'Effic': [1.0], 'fade':[0]}\n",
        "df = pd.DataFrame(data=d)\n",
        "Cs[2], Fs[2], Ts[2], ss[2],es[2]=adpt_fair(scens[2],10,1.5,df)\n"
      ],
      "metadata": {
        "id": "IdLesXgnccfP"
      },
      "execution_count": null,
      "outputs": []
    },
    {
      "cell_type": "code",
      "source": [
        "#SSP37\n",
        "d = {'Start': [2030,2060,2100], 'End': [2045,2080,2130], 'Effic': [1.0,1.0,1.0], 'fade':[0,0,0]}\n",
        "df = pd.DataFrame(data=d)\n",
        "Cs[4], Fs[4], Ts[4], ss[4],es[4]=adpt_fair(scens[4],10,1.5,df)"
      ],
      "metadata": {
        "id": "0H_ne9NgzkvS"
      },
      "execution_count": null,
      "outputs": []
    },
    {
      "cell_type": "code",
      "source": [
        "#SSP37\n",
        "d = {'Start': [2030,2060], 'End': [2045,2080], 'Effic': [1.0,1.0], 'fade':[0,0]}\n",
        "df = pd.DataFrame(data=d)\n",
        "Cs37w, Fs37w, Ts37w, ss37w,es37w=adpt_fair(scens[4],10,1.5,df,wd=2080,wf=0.2)"
      ],
      "metadata": {
        "id": "W9SUqP2f0sBJ"
      },
      "execution_count": null,
      "outputs": []
    },
    {
      "cell_type": "code",
      "source": [
        "#SSP46\n",
        "d = {'Start': [2040,2060], 'End': [2050,2090], 'Effic': [0.5,.6], 'fade':[0,0]}\n",
        "df = pd.DataFrame(data=d)\n",
        "Cs[3], Fs[3], Ts[3], ss[3],es[3]=adpt_fair(scens[3],10,1.5,df)"
      ],
      "metadata": {
        "id": "-4RKTsteak3s"
      },
      "execution_count": null,
      "outputs": []
    },
    {
      "cell_type": "code",
      "source": [
        "Ce46, Fe46, Te46 = fair.forward.fair_scm(emissions=scens[3].Emissions.emissions)\n"
      ],
      "metadata": {
        "id": "oDyE1uMIyXNL"
      },
      "execution_count": null,
      "outputs": []
    },
    {
      "cell_type": "code",
      "source": [
        "#SSP245\n",
        "d = {'Start': [2035], 'End': [2070], 'Effic': [0.8], 'fade':[30]}\n",
        "df = pd.DataFrame(data=d)\n",
        "Cs[5], Fs[5], Ts[5], ss[5],es[5]=adpt_fair(scens[5],10,1.5,df)"
      ],
      "metadata": {
        "id": "sRtS2XBHpGXO",
        "colab": {
          "base_uri": "https://localhost:8080/",
          "height": 198
        },
        "outputId": "d3418af7-ea4b-44d6-b77c-b7c9a93750c5"
      },
      "execution_count": 1,
      "outputs": [
        {
          "output_type": "error",
          "ename": "NameError",
          "evalue": "name 'pd' is not defined",
          "traceback": [
            "\u001b[0;31m---------------------------------------------------------------------------\u001b[0m",
            "\u001b[0;31mNameError\u001b[0m                                 Traceback (most recent call last)",
            "\u001b[0;32m<ipython-input-1-da42a484332c>\u001b[0m in \u001b[0;36m<cell line: 3>\u001b[0;34m()\u001b[0m\n\u001b[1;32m      1\u001b[0m \u001b[0;31m#SSP245\u001b[0m\u001b[0;34m\u001b[0m\u001b[0;34m\u001b[0m\u001b[0m\n\u001b[1;32m      2\u001b[0m \u001b[0md\u001b[0m \u001b[0;34m=\u001b[0m \u001b[0;34m{\u001b[0m\u001b[0;34m'Start'\u001b[0m\u001b[0;34m:\u001b[0m \u001b[0;34m[\u001b[0m\u001b[0;36m2035\u001b[0m\u001b[0;34m]\u001b[0m\u001b[0;34m,\u001b[0m \u001b[0;34m'End'\u001b[0m\u001b[0;34m:\u001b[0m \u001b[0;34m[\u001b[0m\u001b[0;36m2070\u001b[0m\u001b[0;34m]\u001b[0m\u001b[0;34m,\u001b[0m \u001b[0;34m'Effic'\u001b[0m\u001b[0;34m:\u001b[0m \u001b[0;34m[\u001b[0m\u001b[0;36m0.8\u001b[0m\u001b[0;34m]\u001b[0m\u001b[0;34m,\u001b[0m \u001b[0;34m'fade'\u001b[0m\u001b[0;34m:\u001b[0m\u001b[0;34m[\u001b[0m\u001b[0;36m30\u001b[0m\u001b[0;34m]\u001b[0m\u001b[0;34m}\u001b[0m\u001b[0;34m\u001b[0m\u001b[0;34m\u001b[0m\u001b[0m\n\u001b[0;32m----> 3\u001b[0;31m \u001b[0mdf\u001b[0m \u001b[0;34m=\u001b[0m \u001b[0mpd\u001b[0m\u001b[0;34m.\u001b[0m\u001b[0mDataFrame\u001b[0m\u001b[0;34m(\u001b[0m\u001b[0mdata\u001b[0m\u001b[0;34m=\u001b[0m\u001b[0md\u001b[0m\u001b[0;34m)\u001b[0m\u001b[0;34m\u001b[0m\u001b[0;34m\u001b[0m\u001b[0m\n\u001b[0m\u001b[1;32m      4\u001b[0m \u001b[0mCs\u001b[0m\u001b[0;34m[\u001b[0m\u001b[0;36m5\u001b[0m\u001b[0;34m]\u001b[0m\u001b[0;34m,\u001b[0m \u001b[0mFs\u001b[0m\u001b[0;34m[\u001b[0m\u001b[0;36m5\u001b[0m\u001b[0;34m]\u001b[0m\u001b[0;34m,\u001b[0m \u001b[0mTs\u001b[0m\u001b[0;34m[\u001b[0m\u001b[0;36m5\u001b[0m\u001b[0;34m]\u001b[0m\u001b[0;34m,\u001b[0m \u001b[0mss\u001b[0m\u001b[0;34m[\u001b[0m\u001b[0;36m5\u001b[0m\u001b[0;34m]\u001b[0m\u001b[0;34m,\u001b[0m\u001b[0mes\u001b[0m\u001b[0;34m[\u001b[0m\u001b[0;36m5\u001b[0m\u001b[0;34m]\u001b[0m\u001b[0;34m=\u001b[0m\u001b[0madpt_fair\u001b[0m\u001b[0;34m(\u001b[0m\u001b[0mscens\u001b[0m\u001b[0;34m[\u001b[0m\u001b[0;36m5\u001b[0m\u001b[0;34m]\u001b[0m\u001b[0;34m,\u001b[0m\u001b[0;36m10\u001b[0m\u001b[0;34m,\u001b[0m\u001b[0;36m1.5\u001b[0m\u001b[0;34m,\u001b[0m\u001b[0mdf\u001b[0m\u001b[0;34m)\u001b[0m\u001b[0;34m\u001b[0m\u001b[0;34m\u001b[0m\u001b[0m\n",
            "\u001b[0;31mNameError\u001b[0m: name 'pd' is not defined"
          ]
        }
      ]
    },
    {
      "cell_type": "code",
      "source": [
        "def moving_average(a, n=3):\n",
        "    ret = np.cumsum(a, dtype=float)\n",
        "    ret[n:] = ret[n:] - ret[:-n]\n",
        "    return ret[n - 1:] / n"
      ],
      "metadata": {
        "id": "nt8HimOpAzCR"
      },
      "execution_count": null,
      "outputs": []
    },
    {
      "cell_type": "code",
      "source": [
        "fig = plt.figure(figsize=(15, 8))\n",
        "ax1=[0]*len(scens)\n",
        "ax2=[0]*len(scens)\n",
        "ax3=[0]*len(scens)\n",
        "for i in np.arange(len(scens)):\n",
        "  ax1[i] = fig.add_subplot(2,6,i+1)\n",
        "  ax2[i] = fig.add_subplot(4,6,i+13)\n",
        "  ax3[i] = fig.add_subplot(4,6,i+19)\n",
        "\n",
        "  r1=np.random.randn(len(Ts[i]))*0.15\n",
        "  r2=np.random.randn(len(Ts[i]))*0.15\n",
        "  ax1[i].plot(yr,Ts[i]+r1,'tab:orange')\n",
        "  ax1[i].plot(yr,To[i]+r2,'tab:blue',label=snames[i])\n",
        "  ax1[i].set_xlim([1990,2300])\n",
        "  ax1[i].legend()\n",
        "  if i==0:\n",
        "    ax1[i].set_ylabel('Warming (K)')\n",
        "\n",
        "  ax2[i].plot(yr,ss[i],'tab:orange')\n",
        "  ax2[i].set_xlim([1990,2300])\n",
        "  ax2[i].set_ylim([-10,1])\n",
        "\n",
        "  if i==0:\n",
        "    ax2[i].set_ylabel(r'$Wm^{-2}$')\n",
        "\n",
        "  ax3[i].plot(yr[5:-5],10*np.diff(moving_average(Ts[i]+r1,10)),'tab:orange')\n",
        "  ax3[i].plot(yr[5:-5],10*np.diff(moving_average(To[i]+r2,10)),'tab:blue')\n",
        "  ax3[i].set_xlim([1990,2300])\n",
        "  ax3[i].set_ylim([-3,3])\n",
        "  if i==0:\n",
        "    ax3[i].set_ylabel(r'K/decade')\n"
      ],
      "metadata": {
        "id": "aU4qj83T6dPC"
      },
      "execution_count": null,
      "outputs": []
    },
    {
      "cell_type": "code",
      "source": [],
      "metadata": {
        "id": "hsYO6cr8N9lk"
      },
      "execution_count": null,
      "outputs": []
    }
  ],
  "metadata": {
    "colab": {
      "provenance": [],
      "include_colab_link": true
    },
    "kernelspec": {
      "display_name": "Python 2",
      "language": "python",
      "name": "python2"
    },
    "language_info": {
      "codemirror_mode": {
        "name": "ipython",
        "version": 3
      },
      "file_extension": ".py",
      "mimetype": "text/x-python",
      "name": "python",
      "nbconvert_exporter": "python",
      "pygments_lexer": "ipython3",
      "version": "3.7.7"
    }
  },
  "nbformat": 4,
  "nbformat_minor": 0
}